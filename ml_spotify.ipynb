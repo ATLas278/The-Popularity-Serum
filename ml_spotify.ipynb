{
 "cells": [
  {
   "cell_type": "code",
   "execution_count": 104,
   "id": "funded-turtle",
   "metadata": {},
   "outputs": [],
   "source": [
    "import pandas as pd\n",
    "import numpy as np\n",
    "import pickle\n",
    "import statsmodels.api as sm\n",
    "import matplotlib.pyplot as plt\n",
    "import seaborn as sns\n",
    "import tensorflow as tf\n",
    "\n",
    "from tensorflow import keras\n",
    "from keras import Sequential\n",
    "from keras.layers import Dense, Dropout\n",
    "from keras.wrappers.scikit_learn import KerasRegressor\n",
    "from keras.regularizers import l1, l2, l1_l2\n",
    "from statsmodels.stats.outliers_influence import variance_inflation_factor\n",
    "from statsmodels.regression.linear_model import OLS\n",
    "from scipy import stats\n",
    "from sklearn.linear_model import LinearRegression\n",
    "from sklearn.preprocessing import StandardScaler\n",
    "from sklearn.model_selection import train_test_split, KFold, GridSearchCV,cross_val_score\n",
    "from sklearn.metrics import mean_squared_error, mean_absolute_error, r2_score, mean_squared_log_error\n",
    "from sklearn.linear_model import Ridge, Lasso\n",
    "from sklearn import linear_model\n",
    "from sklearn.ensemble import RandomForestRegressor\n",
    "\n",
    "\n",
    "%matplotlib inline\n",
    "plt.style.use('ggplot')\n",
    "plt.rcParams.update({'font.size': 16})\n",
    "plt.rcParams['savefig.dpi'] = 200\n",
    "plt.rcParams['axes.facecolor'] = 'white'\n",
    "plt.rcParams['grid.color'] = 'lightgrey'"
   ]
  },
  {
   "cell_type": "code",
   "execution_count": 12,
   "id": "micro-hopkins",
   "metadata": {},
   "outputs": [],
   "source": [
    "pd.set_option('display.max_columns', None)\n",
    "\n",
    "pop_spotify = pd.read_pickle(\"data/spotify_df.pkl\")"
   ]
  },
  {
   "cell_type": "code",
   "execution_count": 13,
   "id": "neither-quest",
   "metadata": {},
   "outputs": [
    {
     "data": {
      "text/html": [
       "<div>\n",
       "<style scoped>\n",
       "    .dataframe tbody tr th:only-of-type {\n",
       "        vertical-align: middle;\n",
       "    }\n",
       "\n",
       "    .dataframe tbody tr th {\n",
       "        vertical-align: top;\n",
       "    }\n",
       "\n",
       "    .dataframe thead th {\n",
       "        text-align: right;\n",
       "    }\n",
       "</style>\n",
       "<table border=\"1\" class=\"dataframe\">\n",
       "  <thead>\n",
       "    <tr style=\"text-align: right;\">\n",
       "      <th></th>\n",
       "      <th>id</th>\n",
       "      <th>name</th>\n",
       "      <th>popularity</th>\n",
       "      <th>duration_ms</th>\n",
       "      <th>explicit</th>\n",
       "      <th>artists</th>\n",
       "      <th>id_artists</th>\n",
       "      <th>release_date</th>\n",
       "      <th>danceability</th>\n",
       "      <th>energy</th>\n",
       "      <th>key</th>\n",
       "      <th>loudness</th>\n",
       "      <th>mode</th>\n",
       "      <th>speechiness</th>\n",
       "      <th>acousticness</th>\n",
       "      <th>instrumentalness</th>\n",
       "      <th>liveness</th>\n",
       "      <th>valence</th>\n",
       "      <th>tempo</th>\n",
       "      <th>time_signature</th>\n",
       "      <th>year</th>\n",
       "      <th>month</th>\n",
       "    </tr>\n",
       "  </thead>\n",
       "  <tbody>\n",
       "    <tr>\n",
       "      <th>95157</th>\n",
       "      <td>2c07kosP5G3qP4vHhwoUMT</td>\n",
       "      <td>In And Out Of Love - ilan Bluestone &amp; Maor Lev...</td>\n",
       "      <td>30</td>\n",
       "      <td>263432</td>\n",
       "      <td>0</td>\n",
       "      <td>['Armin van Buuren', 'Sharon Den Adel', 'Ilan ...</td>\n",
       "      <td>['0SfsnGyD8FpIN4U4WCkBZ5', '2GST08xzn3dJilysjD...</td>\n",
       "      <td>2020-12-11</td>\n",
       "      <td>0.352</td>\n",
       "      <td>0.736</td>\n",
       "      <td>1</td>\n",
       "      <td>-4.781</td>\n",
       "      <td>1</td>\n",
       "      <td>0.1300</td>\n",
       "      <td>0.01930</td>\n",
       "      <td>0.000020</td>\n",
       "      <td>0.3600</td>\n",
       "      <td>0.102</td>\n",
       "      <td>129.987</td>\n",
       "      <td>4</td>\n",
       "      <td>2020</td>\n",
       "      <td>12</td>\n",
       "    </tr>\n",
       "    <tr>\n",
       "      <th>87847</th>\n",
       "      <td>1wd5l8qYJ4AlgAhPGQxZq4</td>\n",
       "      <td>Im</td>\n",
       "      <td>30</td>\n",
       "      <td>228069</td>\n",
       "      <td>0</td>\n",
       "      <td>['Alma Zohar']</td>\n",
       "      <td>['61Sbigb2Faz8K27wBoOBo9']</td>\n",
       "      <td>2015-07-15</td>\n",
       "      <td>0.702</td>\n",
       "      <td>0.572</td>\n",
       "      <td>7</td>\n",
       "      <td>-9.597</td>\n",
       "      <td>1</td>\n",
       "      <td>0.0289</td>\n",
       "      <td>0.25900</td>\n",
       "      <td>0.000000</td>\n",
       "      <td>0.0946</td>\n",
       "      <td>0.327</td>\n",
       "      <td>129.985</td>\n",
       "      <td>4</td>\n",
       "      <td>2015</td>\n",
       "      <td>7</td>\n",
       "    </tr>\n",
       "    <tr>\n",
       "      <th>86833</th>\n",
       "      <td>3n1vpIDGakzAbo2p2etvhN</td>\n",
       "      <td>Taras e manias</td>\n",
       "      <td>30</td>\n",
       "      <td>248813</td>\n",
       "      <td>0</td>\n",
       "      <td>['Marco Paulo']</td>\n",
       "      <td>['5LxTQtpFwvokioLWNkrDQr']</td>\n",
       "      <td>2013-01-14</td>\n",
       "      <td>0.613</td>\n",
       "      <td>0.558</td>\n",
       "      <td>11</td>\n",
       "      <td>-6.149</td>\n",
       "      <td>1</td>\n",
       "      <td>0.0387</td>\n",
       "      <td>0.53200</td>\n",
       "      <td>0.000000</td>\n",
       "      <td>0.1260</td>\n",
       "      <td>0.529</td>\n",
       "      <td>110.069</td>\n",
       "      <td>4</td>\n",
       "      <td>2013</td>\n",
       "      <td>1</td>\n",
       "    </tr>\n",
       "    <tr>\n",
       "      <th>95155</th>\n",
       "      <td>0MbIwfFvlLpK2yW6w3kmbd</td>\n",
       "      <td>Time Machine (Mixed)</td>\n",
       "      <td>30</td>\n",
       "      <td>49676</td>\n",
       "      <td>0</td>\n",
       "      <td>['Craig Connelly', 'Tara Louise']</td>\n",
       "      <td>['78UUH1buA0gDtDnkX2dPgL', '6rCzXE6L3H7Eihb4Bg...</td>\n",
       "      <td>2020-12-11</td>\n",
       "      <td>0.508</td>\n",
       "      <td>0.887</td>\n",
       "      <td>4</td>\n",
       "      <td>-8.721</td>\n",
       "      <td>0</td>\n",
       "      <td>0.1370</td>\n",
       "      <td>0.00441</td>\n",
       "      <td>0.987000</td>\n",
       "      <td>0.1270</td>\n",
       "      <td>0.648</td>\n",
       "      <td>135.215</td>\n",
       "      <td>4</td>\n",
       "      <td>2020</td>\n",
       "      <td>12</td>\n",
       "    </tr>\n",
       "    <tr>\n",
       "      <th>79426</th>\n",
       "      <td>6WmvWYAnshYAAXZRD1hqck</td>\n",
       "      <td>Eime Enas Allos - Original</td>\n",
       "      <td>30</td>\n",
       "      <td>214693</td>\n",
       "      <td>0</td>\n",
       "      <td>['Nino Xypolitas']</td>\n",
       "      <td>['1ATDcv6wTF2U42HPB4qEFz']</td>\n",
       "      <td>2006-01-01</td>\n",
       "      <td>0.644</td>\n",
       "      <td>0.996</td>\n",
       "      <td>11</td>\n",
       "      <td>-5.938</td>\n",
       "      <td>1</td>\n",
       "      <td>0.1030</td>\n",
       "      <td>0.00346</td>\n",
       "      <td>0.000001</td>\n",
       "      <td>0.3680</td>\n",
       "      <td>0.517</td>\n",
       "      <td>142.995</td>\n",
       "      <td>4</td>\n",
       "      <td>2006</td>\n",
       "      <td>1</td>\n",
       "    </tr>\n",
       "  </tbody>\n",
       "</table>\n",
       "</div>"
      ],
      "text/plain": [
       "                           id  \\\n",
       "95157  2c07kosP5G3qP4vHhwoUMT   \n",
       "87847  1wd5l8qYJ4AlgAhPGQxZq4   \n",
       "86833  3n1vpIDGakzAbo2p2etvhN   \n",
       "95155  0MbIwfFvlLpK2yW6w3kmbd   \n",
       "79426  6WmvWYAnshYAAXZRD1hqck   \n",
       "\n",
       "                                                    name  popularity  \\\n",
       "95157  In And Out Of Love - ilan Bluestone & Maor Lev...          30   \n",
       "87847                                                 Im          30   \n",
       "86833                                     Taras e manias          30   \n",
       "95155                               Time Machine (Mixed)          30   \n",
       "79426                         Eime Enas Allos - Original          30   \n",
       "\n",
       "       duration_ms  explicit  \\\n",
       "95157       263432         0   \n",
       "87847       228069         0   \n",
       "86833       248813         0   \n",
       "95155        49676         0   \n",
       "79426       214693         0   \n",
       "\n",
       "                                                 artists  \\\n",
       "95157  ['Armin van Buuren', 'Sharon Den Adel', 'Ilan ...   \n",
       "87847                                     ['Alma Zohar']   \n",
       "86833                                    ['Marco Paulo']   \n",
       "95155                  ['Craig Connelly', 'Tara Louise']   \n",
       "79426                                 ['Nino Xypolitas']   \n",
       "\n",
       "                                              id_artists release_date  \\\n",
       "95157  ['0SfsnGyD8FpIN4U4WCkBZ5', '2GST08xzn3dJilysjD...   2020-12-11   \n",
       "87847                         ['61Sbigb2Faz8K27wBoOBo9']   2015-07-15   \n",
       "86833                         ['5LxTQtpFwvokioLWNkrDQr']   2013-01-14   \n",
       "95155  ['78UUH1buA0gDtDnkX2dPgL', '6rCzXE6L3H7Eihb4Bg...   2020-12-11   \n",
       "79426                         ['1ATDcv6wTF2U42HPB4qEFz']   2006-01-01   \n",
       "\n",
       "       danceability  energy  key  loudness  mode  speechiness  acousticness  \\\n",
       "95157         0.352   0.736    1    -4.781     1       0.1300       0.01930   \n",
       "87847         0.702   0.572    7    -9.597     1       0.0289       0.25900   \n",
       "86833         0.613   0.558   11    -6.149     1       0.0387       0.53200   \n",
       "95155         0.508   0.887    4    -8.721     0       0.1370       0.00441   \n",
       "79426         0.644   0.996   11    -5.938     1       0.1030       0.00346   \n",
       "\n",
       "       instrumentalness  liveness  valence    tempo  time_signature  year  \\\n",
       "95157          0.000020    0.3600    0.102  129.987               4  2020   \n",
       "87847          0.000000    0.0946    0.327  129.985               4  2015   \n",
       "86833          0.000000    0.1260    0.529  110.069               4  2013   \n",
       "95155          0.987000    0.1270    0.648  135.215               4  2020   \n",
       "79426          0.000001    0.3680    0.517  142.995               4  2006   \n",
       "\n",
       "       month  \n",
       "95157     12  \n",
       "87847      7  \n",
       "86833      1  \n",
       "95155     12  \n",
       "79426      1  "
      ]
     },
     "execution_count": 13,
     "metadata": {},
     "output_type": "execute_result"
    }
   ],
   "source": [
    "pop_spotify.head()"
   ]
  },
  {
   "cell_type": "code",
   "execution_count": 14,
   "id": "6421cb04-c534-4e63-8eed-c21843907f00",
   "metadata": {},
   "outputs": [
    {
     "data": {
      "text/plain": [
       "array([  93084, 1736482,  123806, ..., 1017362, 1492844, 1293165])"
      ]
     },
     "execution_count": 14,
     "metadata": {},
     "output_type": "execute_result"
    }
   ],
   "source": [
    "samp = np.random.randint(low=0,high=1900000,size=100000)\n",
    "samp"
   ]
  },
  {
   "cell_type": "code",
   "execution_count": 15,
   "id": "8ac7f45c-c7e2-4790-9209-a47d87b12582",
   "metadata": {},
   "outputs": [],
   "source": [
    "sample_df = pop_spotify.iloc[samp]"
   ]
  },
  {
   "cell_type": "code",
   "execution_count": 16,
   "id": "f10f76b9-7725-44a5-a578-c119ee091c18",
   "metadata": {},
   "outputs": [],
   "source": [
    "samp_df2 = sample_df[['popularity','duration_ms','explicit','danceability','energy','key','loudness','mode', 'speechiness','acousticness','instrumentalness','liveness','valence','tempo']]"
   ]
  },
  {
   "cell_type": "code",
   "execution_count": 17,
   "id": "c15fe966-fdca-43c5-b50f-cac6d280e415",
   "metadata": {},
   "outputs": [],
   "source": [
    "# samp_df2[samp_df2['tempo'] - np.mean(samp_df2['tempo'] / np.std(samp_df2['tempo']))] "
   ]
  },
  {
   "cell_type": "code",
   "execution_count": 18,
   "id": "effective-prediction",
   "metadata": {},
   "outputs": [],
   "source": [
    "# pop_df = pop_spotify[['popularity','danceability', 'instrumentalness', 'loudness', 'speechiness', 'explicit','liveness','duration_ms']]"
   ]
  },
  {
   "cell_type": "code",
   "execution_count": 19,
   "id": "8df2860b-45e0-4851-b05b-4021a21bfac4",
   "metadata": {
    "tags": []
   },
   "outputs": [
    {
     "data": {
      "image/png": "[encoded data removed]",
      "text/plain": [
       "<Figure size 720x720 with 2 Axes>"
      ]
     },
     "metadata": {},
     "output_type": "display_data"
    }
   ],
   "source": [
    "plt.figure(figsize=(10,10))\n",
    "sns.heatmap(samp_df2.corr(), annot=True, mask=np.triu(samp_df2.corr()));"
   ]
  },
  {
   "cell_type": "code",
   "execution_count": 20,
   "id": "514e398f-6d65-4330-86cc-2080c2461780",
   "metadata": {},
   "outputs": [],
   "source": [
    "# dance = pop_df[['popularity','danceability']]\n",
    "# avg_dance = pop_df.groupby('popularity').mean()"
   ]
  },
  {
   "cell_type": "code",
   "execution_count": 21,
   "id": "7a8d3ddf-577d-49c5-a0ad-bf78ee1220d9",
   "metadata": {},
   "outputs": [],
   "source": [
    "# fig, ax = plt.subplots(figsize=(14,5),squeeze=True)\n",
    "\n",
    "# ax.plot(avg_dance.index, avg_dance.danceability,color='navy',alpha=0.5)\n",
    "# ax.scatter(avg_dance.index, avg_dance.danceability,color='blue',s=20)\n",
    "# ax.set_title('Average Danceability as Popularity Increases')\n",
    "# ax.set_xlabel('Popularity')\n",
    "# ax.set_ylabel('Danceability')\n",
    "# plt.plot(np.unique(avg_dance.index), np.poly1d(np.polyfit(avg_dance.index, avg_dance.danceability, 1))(np.unique(avg_dance.index)),linestyle='--');\n",
    "# plt.tight_layout()\n",
    "# plt.show()"
   ]
  },
  {
   "cell_type": "code",
   "execution_count": 22,
   "id": "950a73f6-0a54-4e02-98f7-53727bbf8e1a",
   "metadata": {},
   "outputs": [],
   "source": [
    "# r,p = stats.pearsonr(avg_dance.index,avg_dance.danceability)\n",
    "# r,p"
   ]
  },
  {
   "cell_type": "code",
   "execution_count": 23,
   "id": "adapted-platform",
   "metadata": {},
   "outputs": [],
   "source": [
    "def rmse(y_true, y_predict):\n",
    "    return mean_squared_error(y_true, y_predict)"
   ]
  },
  {
   "cell_type": "code",
   "execution_count": 24,
   "id": "a6f07cea-1d4f-4d2d-8ebf-0be7403f2a6e",
   "metadata": {},
   "outputs": [],
   "source": [
    "def msle(y_true, y_predict):\n",
    "    return mean_squared_log_error(y_true, y_predict)"
   ]
  },
  {
   "cell_type": "code",
   "execution_count": 25,
   "id": "6d391571-daad-4b28-ab6a-2712ad1e3e44",
   "metadata": {},
   "outputs": [],
   "source": [
    "def cross_val(X_train, y_train, k, model):\n",
    "    # Return the error for k-fold cross-val\n",
    "    kf = KFold(n_splits=k)\n",
    "    error = np.empty(k)\n",
    "    index = 0\n",
    "    \n",
    "    for train, test in kf.split(X_train):\n",
    "        model.fit(X_train[train], y_train[train])\n",
    "        pred = model.predict(X_train[test])\n",
    "        error[index] = rmse(y_train[test], pred)\n",
    "        index +=1\n",
    "    return np.mean(error)"
   ]
  },
  {
   "cell_type": "code",
   "execution_count": 26,
   "id": "c763419c-b410-4bf9-9d45-075f94596f63",
   "metadata": {},
   "outputs": [],
   "source": [
    "y = samp_df2.popularity\n",
    "X = samp_df2.drop(['popularity'], axis=1)\n"
   ]
  },
  {
   "cell_type": "code",
   "execution_count": 27,
   "id": "5c2bfdc5-f979-47cd-b63a-dd572ba8b2d4",
   "metadata": {},
   "outputs": [
    {
     "data": {
      "text/html": [
       "<div>\n",
       "<style scoped>\n",
       "    .dataframe tbody tr th:only-of-type {\n",
       "        vertical-align: middle;\n",
       "    }\n",
       "\n",
       "    .dataframe tbody tr th {\n",
       "        vertical-align: top;\n",
       "    }\n",
       "\n",
       "    .dataframe thead th {\n",
       "        text-align: right;\n",
       "    }\n",
       "</style>\n",
       "<table border=\"1\" class=\"dataframe\">\n",
       "  <thead>\n",
       "    <tr style=\"text-align: right;\">\n",
       "      <th></th>\n",
       "      <th>VIF</th>\n",
       "      <th>Columns</th>\n",
       "    </tr>\n",
       "  </thead>\n",
       "  <tbody>\n",
       "    <tr>\n",
       "      <th>9</th>\n",
       "      <td>1.420720</td>\n",
       "      <td>instrumentalness</td>\n",
       "    </tr>\n",
       "    <tr>\n",
       "      <th>1</th>\n",
       "      <td>1.611488</td>\n",
       "      <td>explicit</td>\n",
       "    </tr>\n",
       "    <tr>\n",
       "      <th>7</th>\n",
       "      <td>2.425764</td>\n",
       "      <td>speechiness</td>\n",
       "    </tr>\n",
       "    <tr>\n",
       "      <th>10</th>\n",
       "      <td>2.555725</td>\n",
       "      <td>liveness</td>\n",
       "    </tr>\n",
       "    <tr>\n",
       "      <th>6</th>\n",
       "      <td>2.730995</td>\n",
       "      <td>mode</td>\n",
       "    </tr>\n",
       "    <tr>\n",
       "      <th>8</th>\n",
       "      <td>3.011860</td>\n",
       "      <td>acousticness</td>\n",
       "    </tr>\n",
       "    <tr>\n",
       "      <th>4</th>\n",
       "      <td>3.214516</td>\n",
       "      <td>key</td>\n",
       "    </tr>\n",
       "    <tr>\n",
       "      <th>5</th>\n",
       "      <td>8.140998</td>\n",
       "      <td>loudness</td>\n",
       "    </tr>\n",
       "    <tr>\n",
       "      <th>11</th>\n",
       "      <td>8.714075</td>\n",
       "      <td>valence</td>\n",
       "    </tr>\n",
       "    <tr>\n",
       "      <th>0</th>\n",
       "      <td>9.255921</td>\n",
       "      <td>duration_ms</td>\n",
       "    </tr>\n",
       "    <tr>\n",
       "      <th>12</th>\n",
       "      <td>15.911958</td>\n",
       "      <td>tempo</td>\n",
       "    </tr>\n",
       "    <tr>\n",
       "      <th>2</th>\n",
       "      <td>17.378969</td>\n",
       "      <td>danceability</td>\n",
       "    </tr>\n",
       "    <tr>\n",
       "      <th>3</th>\n",
       "      <td>20.195470</td>\n",
       "      <td>energy</td>\n",
       "    </tr>\n",
       "  </tbody>\n",
       "</table>\n",
       "</div>"
      ],
      "text/plain": [
       "          VIF           Columns\n",
       "9    1.420720  instrumentalness\n",
       "1    1.611488          explicit\n",
       "7    2.425764       speechiness\n",
       "10   2.555725          liveness\n",
       "6    2.730995              mode\n",
       "8    3.011860      acousticness\n",
       "4    3.214516               key\n",
       "5    8.140998          loudness\n",
       "11   8.714075           valence\n",
       "0    9.255921       duration_ms\n",
       "12  15.911958             tempo\n",
       "2   17.378969      danceability\n",
       "3   20.195470            energy"
      ]
     },
     "execution_count": 27,
     "metadata": {},
     "output_type": "execute_result"
    }
   ],
   "source": [
    "vif_info = pd.DataFrame()\n",
    "vif_info['VIF'] = [variance_inflation_factor(X.values, i) for i in range(X.shape[1])]\n",
    "vif_info['Columns'] = X.columns\n",
    "vif_info.sort_values('VIF')"
   ]
  },
  {
   "cell_type": "code",
   "execution_count": 28,
   "id": "64f5134e-f33d-4e9f-a050-283add9629a0",
   "metadata": {},
   "outputs": [],
   "source": [
    "X_train, X_test, y_train, y_test = train_test_split(X.values, y.values, shuffle=True, test_size=0.2, random_state=42)"
   ]
  },
  {
   "cell_type": "code",
   "execution_count": 39,
   "id": "a8b45c2c-5bb4-4d37-9f9c-f22cf8d391c6",
   "metadata": {},
   "outputs": [
    {
     "data": {
      "text/plain": [
       "0.11674136803785351"
      ]
     },
     "execution_count": 39,
     "metadata": {},
     "output_type": "execute_result"
    }
   ],
   "source": [
    "lr = LinearRegression().fit(X_train, y_train)\n",
    "# y_hats = lr.predict(X_train)\n",
    "lr.score(X_test,y_test)"
   ]
  },
  {
   "cell_type": "code",
   "execution_count": 40,
   "id": "c997d015-733a-4b15-8202-3e0aefd33fc3",
   "metadata": {},
   "outputs": [
    {
     "name": "stdout",
     "output_type": "stream",
     "text": [
      "Training set score: 0.11\n",
      "Test set score: 0.12\n"
     ]
    }
   ],
   "source": [
    "ridge1 = Ridge(alpha=10).fit(X_train, y_train)\n",
    "print(\"Training set score: {:.2f}\".format(ridge1.score(X_train, y_train)))\n",
    "print(\"Test set score: {:.2f}\".format(ridge1.score(X_test, y_test)))"
   ]
  },
  {
   "cell_type": "code",
   "execution_count": 41,
   "id": "ff9fa8ae-f418-4de8-90fe-217d86484e1f",
   "metadata": {},
   "outputs": [
    {
     "name": "stdout",
     "output_type": "stream",
     "text": [
      "Training set score: 0.11\n",
      "Test set score: 0.12\n"
     ]
    }
   ],
   "source": [
    "ridge2 = Ridge(alpha=.1).fit(X_train, y_train)\n",
    "print(\"Training set score: {:.2f}\".format(ridge2.score(X_train, y_train)))\n",
    "print(\"Test set score: {:.2f}\".format(ridge2.score(X_test, y_test)))"
   ]
  },
  {
   "cell_type": "code",
   "execution_count": 42,
   "id": "8e0b4a1f-4fdb-44ca-b412-4b921b303974",
   "metadata": {},
   "outputs": [
    {
     "data": {
      "text/plain": [
       "<matplotlib.legend.Legend at 0x7fb985a218d0>"
      ]
     },
     "execution_count": 42,
     "metadata": {},
     "output_type": "execute_result"
    },
    {
     "data": {
      "image/png": "[encoded data removed]",
      "text/plain": [
       "<Figure size 432x288 with 1 Axes>"
      ]
     },
     "metadata": {},
     "output_type": "display_data"
    }
   ],
   "source": [
    "plt.plot(ridge1.coef_,'^',label=\"Ridge alpha=10\")\n",
    "plt.plot(lr.coef_,'o', label=\"Linear Regression\")\n",
    "\n",
    "plt.xlabel(\"Coefficient Index\")\n",
    "plt.ylabel(\"Coefficient Magnitude\")\n",
    "plt.hlines(0,0,len(lr.coef_))\n",
    "plt.ylim(-25, 25)\n",
    "plt.legend()"
   ]
  },
  {
   "cell_type": "markdown",
   "id": "df697bd0-dcfc-4926-b4c6-f87330c98629",
   "metadata": {},
   "source": [
    "# Random Forest\n"
   ]
  },
  {
   "cell_type": "markdown",
   "id": "9f6cf7d5-9f8a-4144-8c2c-70bbd9ea829a",
   "metadata": {},
   "source": [
    "n_estimators:\n",
    "200: .79532\n",
    "100: .79234\n",
    "50: .79260\n",
    "400: .796"
   ]
  },
  {
   "cell_type": "code",
   "execution_count": 63,
   "id": "748a0768-4c48-4f30-a341-b97fc645e3e6",
   "metadata": {
    "tags": []
   },
   "outputs": [],
   "source": [
    "# from sklearn.model_selection import RandomizedSearchCV\n",
    "\n",
    "# n_estimators = [16,32,64,128]\n",
    "# max_features = ['auto', 'sqrt']\n",
    "# max_depth = [int(x) for x in np.linspace(10, 110, num = 11)]\n",
    "# max_depth.append(None)\n",
    "# min_samples_split = [2, 5, 10]\n",
    "# min_samples_leaf = [1, 2, 4]\n",
    "# bootstrap = [True, False]\n",
    "# random_grid = {'n_estimators': n_estimators,\n",
    "#                'max_features': max_features,\n",
    "#                'max_depth': max_depth,\n",
    "#                'min_samples_split': min_samples_split,\n",
    "#                'min_samples_leaf': min_samples_leaf,\n",
    "#                'bootstrap': bootstrap}\n",
    "\n"
   ]
  },
  {
   "cell_type": "code",
   "execution_count": 64,
   "id": "6bdc9bc4-9867-4a10-9991-eedfd5cf711a",
   "metadata": {
    "tags": []
   },
   "outputs": [],
   "source": [
    "# rf = RandomForestRegressor()\n",
    "# rf_random = RandomizedSearchCV(estimator=rf, param_distributions=random_grid, n_iter=50, cv=3,random_state=42, n_jobs=-1)\n",
    "# rf_random.fit(X_train,y_train)"
   ]
  },
  {
   "cell_type": "markdown",
   "id": "f0dac867-b33a-4329-acaa-3d21ebc24724",
   "metadata": {},
   "source": [
    "## Training"
   ]
  },
  {
   "cell_type": "code",
   "execution_count": 130,
   "id": "0576af2a-9955-48b6-9657-cb2bc9927180",
   "metadata": {},
   "outputs": [
    {
     "name": "stdout",
     "output_type": "stream",
     "text": [
      "R-Squared Train: 0.958821485250213\n",
      "MSLE Train: 0.0023521458171484474\n"
     ]
    }
   ],
   "source": [
    "rfr = RandomForestRegressor(n_estimators=50)\n",
    "model = rfr.fit(X_train,y_train)\n",
    "y_hats = model.predict(X_train)\n",
    "print('R-Squared Train:', model.score(X_train,y_train))\n",
    "print('MSLE Train:', msle(y_train, y_hats))\n"
   ]
  },
  {
   "cell_type": "markdown",
   "id": "4ccb4e3e-eb69-41f0-8d77-46254f8775e2",
   "metadata": {
    "tags": []
   },
   "source": [
    "### Cross-validation on training data"
   ]
  },
  {
   "cell_type": "code",
   "execution_count": 66,
   "id": "b40e1972-1672-4dc6-91ab-47a02d322fb2",
   "metadata": {},
   "outputs": [],
   "source": [
    "# print('Cross-validation Train:', cross_val(X_train, y_train, k=7, model=RandomForestRegressor()))"
   ]
  },
  {
   "cell_type": "markdown",
   "id": "c2f23b69-69f7-4f5c-9b37-5565720d403d",
   "metadata": {},
   "source": [
    "## Testing"
   ]
  },
  {
   "cell_type": "code",
   "execution_count": 131,
   "id": "a2aae3a3-b869-44af-8b60-cf2273a988b6",
   "metadata": {},
   "outputs": [
    {
     "name": "stdout",
     "output_type": "stream",
     "text": [
      "R-Squared Test: 0.7978132878385042\n",
      "MSLE Test: 0.01050968726977014\n"
     ]
    }
   ],
   "source": [
    "y_hats = model.predict(X_test)\n",
    "print('R-Squared Test:', model.score(X_test,y_test))\n",
    "print('MSLE Test:', msle(y_test,y_hats))"
   ]
  },
  {
   "cell_type": "markdown",
   "id": "a60edcbc-8ec4-4310-a915-289842bb860d",
   "metadata": {},
   "source": [
    "* With **Testing Accuracy** < **Training Accuracy**, this indicates an overfitting of the model. Need to generalize the model more."
   ]
  },
  {
   "cell_type": "markdown",
   "id": "0c78e36f-d69f-4f1b-a640-ea7f9199fb8c",
   "metadata": {},
   "source": [
    "### Cross-validation on testing data"
   ]
  },
  {
   "cell_type": "code",
   "execution_count": 68,
   "id": "70da4016-3c51-4a93-8f57-ffdea166db3f",
   "metadata": {},
   "outputs": [],
   "source": [
    "# print('Cross-validation Test:', cross_val(X_test, y_test, k=7, model=RandomForestRegressor()))"
   ]
  },
  {
   "cell_type": "markdown",
   "id": "7fa54d0c-d3e1-45f3-ba8a-8b5e05298872",
   "metadata": {},
   "source": [
    "# Neural Network"
   ]
  },
  {
   "cell_type": "code",
   "execution_count": 30,
   "id": "39438123-7ae0-4c0b-b955-8fb44e526ec5",
   "metadata": {},
   "outputs": [
    {
     "data": {
      "text/plain": [
       "((80000, 13), (80000,))"
      ]
     },
     "execution_count": 30,
     "metadata": {},
     "output_type": "execute_result"
    }
   ],
   "source": [
    "X_train.shape, y_train.shape"
   ]
  },
  {
   "cell_type": "code",
   "execution_count": 32,
   "id": "b08e95d1-6bc8-4894-ab8e-01c7cbecb39c",
   "metadata": {},
   "outputs": [
    {
     "ename": "ValueError",
     "evalue": "cannot reshape array of size 80000 into shape (80000,13)",
     "output_type": "error",
     "traceback": [
      "\u001b[0;31m---------------------------------------------------------------------------\u001b[0m",
      "\u001b[0;31mValueError\u001b[0m                                Traceback (most recent call last)",
      "\u001b[0;32m<ipython-input-32-cfdd68d73089>\u001b[0m in \u001b[0;36m<module>\u001b[0;34m\u001b[0m\n\u001b[0;32m----> 1\u001b[0;31m \u001b[0my_train\u001b[0m\u001b[0;34m.\u001b[0m\u001b[0mreshape\u001b[0m\u001b[0;34m(\u001b[0m\u001b[0;36m80000\u001b[0m\u001b[0;34m,\u001b[0m\u001b[0;36m13\u001b[0m\u001b[0;34m)\u001b[0m\u001b[0;34m\u001b[0m\u001b[0;34m\u001b[0m\u001b[0m\n\u001b[0m",
      "\u001b[0;31mValueError\u001b[0m: cannot reshape array of size 80000 into shape (80000,13)"
     ]
    }
   ],
   "source": [
    "y_train.reshape(80000,13)"
   ]
  },
  {
   "cell_type": "code",
   "execution_count": 34,
   "id": "3b4c0a0d-8714-42ce-84d8-25fa1811642b",
   "metadata": {},
   "outputs": [
    {
     "data": {
      "text/plain": [
       "<matplotlib.collections.PathCollection at 0x7efd6e70ded0>"
      ]
     },
     "execution_count": 34,
     "metadata": {},
     "output_type": "execute_result"
    },
    {
     "data": {
      "image/png": "[encoded data removed]",
      "text/plain": [
       "<Figure size 576x576 with 1 Axes>"
      ]
     },
     "metadata": {},
     "output_type": "display_data"
    }
   ],
   "source": [
    "fig, ax = plt.subplots(figsize=(8,8))\n",
    "ax.scatter(X_train[:,0],y_train, s=5)"
   ]
  },
  {
   "cell_type": "code",
   "execution_count": 37,
   "id": "938c9e6a-a643-4b94-afb3-276740a7901e",
   "metadata": {},
   "outputs": [
    {
     "data": {
      "text/plain": [
       "(20000, 13)"
      ]
     },
     "execution_count": 37,
     "metadata": {},
     "output_type": "execute_result"
    }
   ],
   "source": []
  },
  {
   "cell_type": "code",
   "execution_count": 96,
   "id": "3b19ed98-e3cd-4260-ade0-3d2df099911e",
   "metadata": {},
   "outputs": [],
   "source": [
    "sc = StandardScaler()\n",
    "# X_train_scale = sc.fit_transform(X_train)\n",
    "# X_train = sc.inverse_transform(X_train_scale)\n",
    "# X_test_scale = sc.fit_transform(X_test)\n",
    "# X_test = sc.inverse_transform(X_test_scale)"
   ]
  },
  {
   "cell_type": "code",
   "execution_count": 97,
   "id": "10ff4428-b95f-46f0-b2f6-e05c91e888e2",
   "metadata": {},
   "outputs": [],
   "source": [
    "X_train = sc.fit_transform(X_train)\n",
    "X_test = sc.fit_transform(X_test)"
   ]
  },
  {
   "cell_type": "code",
   "execution_count": 98,
   "id": "95e3c70e-cdf8-47f3-a709-083b62c01959",
   "metadata": {},
   "outputs": [],
   "source": [
    "model = Sequential()"
   ]
  },
  {
   "cell_type": "code",
   "execution_count": 99,
   "id": "77cd4c74-cca5-43d7-844d-ff1ed578050d",
   "metadata": {},
   "outputs": [],
   "source": [
    "model.add(Dense(200, kernel_regularizer=l1(0.01),activation = 'relu', input_shape = (13, 1)))\n",
    "model.add(Dense(units = 50, kernel_regularizer=l1(0.01), activation = 'relu'))\n",
    "model.add(Dropout(0.50))\n",
    "model.add(Dense(units = 50, kernel_regularizer=l1(0.01),activation = 'relu'))\n",
    "model.add(Dropout(0.50))\n",
    "model.add(Dense(units = 50, kernel_regularizer=l1(0.01),activation = 'relu'))\n",
    "model.add(Dropout(0.50))\n",
    "model.add(Dense(units = 50, kernel_regularizer=l1(0.01),activation = 'relu'))\n",
    "model.add(Dense(units = 1, kernel_regularizer=l1(0.01),activation = 'linear'))"
   ]
  },
  {
   "cell_type": "code",
   "execution_count": 100,
   "id": "022c42ed-7cf1-4131-b3c6-14f7b8635a39",
   "metadata": {},
   "outputs": [],
   "source": [
    "#model.add(Dense(1))\n",
    "# Compiling the ANN\n",
    "model.compile(optimizer = 'adam', loss = 'mean_squared_logarithmic_error')"
   ]
  },
  {
   "cell_type": "code",
   "execution_count": 101,
   "id": "d82a948b-3285-4bcd-b2e1-219fac9cb56c",
   "metadata": {},
   "outputs": [
    {
     "name": "stdout",
     "output_type": "stream",
     "text": [
      "Epoch 1/20\n",
      "2500/2500 [==============================] - 13s 4ms/step - loss: 5.3758 - val_loss: 0.6824\n",
      "Epoch 2/20\n",
      "2500/2500 [==============================] - 11s 4ms/step - loss: 0.6356 - val_loss: 0.2365\n",
      "Epoch 3/20\n",
      "2500/2500 [==============================] - 11s 4ms/step - loss: 0.2605 - val_loss: 0.1533\n",
      "Epoch 4/20\n",
      "2500/2500 [==============================] - 11s 4ms/step - loss: 0.1771 - val_loss: 0.1355\n",
      "Epoch 5/20\n",
      "2500/2500 [==============================] - 11s 4ms/step - loss: 0.1444 - val_loss: 0.1274\n",
      "Epoch 6/20\n",
      "2500/2500 [==============================] - 11s 5ms/step - loss: 0.1285 - val_loss: 0.1209\n",
      "Epoch 7/20\n",
      "2500/2500 [==============================] - 11s 5ms/step - loss: 0.1194 - val_loss: 0.1141\n",
      "Epoch 8/20\n",
      "2500/2500 [==============================] - 11s 4ms/step - loss: 0.1132 - val_loss: 0.1088\n",
      "Epoch 9/20\n",
      "2500/2500 [==============================] - 11s 5ms/step - loss: 0.1077 - val_loss: 0.1041\n",
      "Epoch 10/20\n",
      "2500/2500 [==============================] - 11s 4ms/step - loss: 0.1027 - val_loss: 0.1002\n",
      "Epoch 11/20\n",
      "2500/2500 [==============================] - 11s 5ms/step - loss: 0.0998 - val_loss: 0.0970\n",
      "Epoch 12/20\n",
      "2500/2500 [==============================] - 11s 4ms/step - loss: 0.0958 - val_loss: 0.0942\n",
      "Epoch 13/20\n",
      "2500/2500 [==============================] - 11s 4ms/step - loss: 0.0935 - val_loss: 0.0921\n",
      "Epoch 14/20\n",
      "2500/2500 [==============================] - 11s 4ms/step - loss: 0.0911 - val_loss: 0.0898\n",
      "Epoch 15/20\n",
      "2500/2500 [==============================] - 11s 4ms/step - loss: 0.0892 - val_loss: 0.0881\n",
      "Epoch 16/20\n",
      "2500/2500 [==============================] - 11s 5ms/step - loss: 0.0871 - val_loss: 0.0867\n",
      "Epoch 17/20\n",
      "2500/2500 [==============================] - 10s 4ms/step - loss: 0.0862 - val_loss: 0.0850\n",
      "Epoch 18/20\n",
      "2500/2500 [==============================] - 10s 4ms/step - loss: 0.0845 - val_loss: 0.0837\n",
      "Epoch 19/20\n",
      "2500/2500 [==============================] - 10s 4ms/step - loss: 0.0831 - val_loss: 0.0826\n",
      "Epoch 20/20\n",
      "2500/2500 [==============================] - 11s 5ms/step - loss: 0.0823 - val_loss: 0.0814\n"
     ]
    }
   ],
   "source": [
    "pop_mod = model.fit(X_train.reshape(X_train.shape[0],X_train.shape[1], 1), \n",
    "          y_train, \n",
    "          epochs=20, \n",
    "          batch_size=32, \n",
    "          validation_data = (X_test.reshape(X_test.shape[0], X_test.shape[1], 1), y_test), \n",
    "          callbacks=tf.keras.callbacks.EarlyStopping(monitor='val_loss',\n",
    "                                                    verbose=1,\n",
    "                                                    patience=4,\n",
    "                                                    restore_best_weights=True))"
   ]
  },
  {
   "cell_type": "code",
   "execution_count": 102,
   "id": "fd74049b-b0ab-448d-a0ac-908dd71c4ad8",
   "metadata": {},
   "outputs": [
    {
     "name": "stdout",
     "output_type": "stream",
     "text": [
      "Train: 0.081, Test: 0.081\n"
     ]
    }
   ],
   "source": [
    "train_msle = model.evaluate(X_train.reshape(X_train.shape[0],X_train.shape[1], 1), y_train, verbose=0)\n",
    "test_msle = model.evaluate(X_test.reshape(X_test.shape[0],X_test.shape[1], 1), y_test, verbose=0)\n",
    "print('Train: %.3f, Test: %.3f' % (train_msle, test_msle))"
   ]
  },
  {
   "cell_type": "markdown",
   "id": "99f23f05-366b-45a2-bc11-2c088b00f589",
   "metadata": {},
   "source": [
    "## Visualizing Loss in my neural network"
   ]
  },
  {
   "cell_type": "code",
   "execution_count": 105,
   "id": "d4d1f55b-b966-4600-a23f-b464dd0ef8e9",
   "metadata": {},
   "outputs": [
    {
     "data": {
      "image/png": "[encoded data removed]",
      "text/plain": [
       "<Figure size 432x288 with 1 Axes>"
      ]
     },
     "metadata": {},
     "output_type": "display_data"
    }
   ],
   "source": [
    "metrics = pop_mod.history\n",
    "\n",
    "plt.plot(pop_mod.epoch, metrics['loss'], metrics['val_loss'])\n",
    "\n",
    "plt.title(\"Loss\\n(Mean Squared Logarithmic Error)\")\n",
    "plt.legend(['Training Loss','Validation Loss'])\n",
    "plt.xlabel('Epoch')\n",
    "plt.show()"
   ]
  },
  {
   "cell_type": "code",
   "execution_count": 25,
   "id": "e7ef9048-cdc8-45cd-aed2-970bda92b35f",
   "metadata": {},
   "outputs": [],
   "source": [
    "# pred = model.predict(X_test.reshape(X_test.shape[0], X_test.shape[1], 1))"
   ]
  },
  {
   "cell_type": "code",
   "execution_count": 37,
   "id": "c145d484-84b9-4701-892e-baf51b4f49c3",
   "metadata": {},
   "outputs": [],
   "source": [
    "# def chart_regression(pred, y, sort=True):\n",
    "#     t = pd.DataFrame({'pred': pred, 'y': y.flatten()})\n",
    "#     if sort:\n",
    "#         t.sort_values(by=['y'], inplace=True)\n",
    "#     plt.plot(t['y'].tolist(), label='expected')\n",
    "#     plt.plot(t['pred'].tolist(), label='prediction')\n",
    "#     plt.ylabel('output')\n",
    "#     plt.legend()\n",
    "#     plt.show()"
   ]
  },
  {
   "cell_type": "code",
   "execution_count": 65,
   "id": "71d4903e-d7c2-4f10-bcef-456f5033e904",
   "metadata": {},
   "outputs": [],
   "source": [
    "# def plot_results(model, ax=None, function=np.sin, xlim=(-7, 7)):\n",
    "#     if ax is None:\n",
    "#         fig, ax = plt.subplots(figsize=(12,5))\n",
    "        \n",
    "#     y_pred = model.predict(X_test.reshape(20000,-1))\n",
    "#     ax.plot(X_test, y_pred, 'r-', label='Model Predictions')\n",
    "#     ax.plot(X_test, y_test, 'b-', lw=1, label='Actual Expected Values')\n",
    "    \n",
    "#     ax.axvline(-5, color='k', label='Limites of Data')\n",
    "#     ax.axvline(5, color='k')\n",
    "#     ax.set_xlim(xlim)\n",
    "#     ax.legend()"
   ]
  },
  {
   "cell_type": "code",
   "execution_count": 74,
   "id": "a1defe1e-cc70-495d-bfef-ac92dc569381",
   "metadata": {},
   "outputs": [],
   "source": [
    "# fig, ax = plt.subplots(figsize=(12,5))\n",
    "# plot_results(model, ax=ax)"
   ]
  }
 ],
 "metadata": {
  "kernelspec": {
   "display_name": "Python 3",
   "language": "python",
   "name": "python3"
  },
  "language_info": {
   "codemirror_mode": {
    "name": "ipython",
    "version": 3
   },
   "file_extension": ".py",
   "mimetype": "text/x-python",
   "name": "python",
   "nbconvert_exporter": "python",
   "pygments_lexer": "ipython3",
   "version": "3.7.10"
  }
 },
 "nbformat": 4,
 "nbformat_minor": 5
}
